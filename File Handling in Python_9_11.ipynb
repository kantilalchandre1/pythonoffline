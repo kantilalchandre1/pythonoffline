{
 "cells": [
  {
   "cell_type": "code",
   "execution_count": null,
   "id": "fedfa996-7ffe-4575-95f0-4526fe08ddb9",
   "metadata": {},
   "outputs": [],
   "source": [
    "Data Store -->\n",
    "Files -  \n",
    "DB\n",
    "Dataware house\n",
    "Cloud - s3|RDS|Redshift\n",
    "HAdoop\n",
    "Datamart\n",
    "snowflake\n"
   ]
  },
  {
   "cell_type": "code",
   "execution_count": null,
   "id": "a1485a65-567a-42a9-8451-d8a9e516389c",
   "metadata": {},
   "outputs": [],
   "source": [
    "temporary | volatile \n",
    "\n",
    "Permenent | Persistant| non volatile"
   ]
  },
  {
   "cell_type": "code",
   "execution_count": null,
   "id": "c9a63874-33c1-467f-9044-4409b97c45b9",
   "metadata": {},
   "outputs": [],
   "source": [
    "RAM  -  Volatile -->  \n",
    "HDD | SSD --> Permanent\n",
    "\n",
    "\n",
    "Variable \n",
    "\n",
    "a = [345,'pdfsdf',56456]"
   ]
  },
  {
   "cell_type": "code",
   "execution_count": null,
   "id": "2d3a7af2-bc4f-4778-b0ec-c27fba8b8587",
   "metadata": {},
   "outputs": [],
   "source": [
    "small amount  : files --> csv | tsv | excel | txt | dat | pdf | flat | JSON | Parquet\n",
    "\n",
    "medium amount : DB | MYSQL | MSSQL \n",
    "\n",
    "large : DB | Postgre | RDS \n",
    "\n",
    "very large : Big Data Hadoop | HDFS | MongoDB"
   ]
  },
  {
   "cell_type": "code",
   "execution_count": null,
   "id": "7aa465ed-1227-48cd-840a-b14322201024",
   "metadata": {},
   "outputs": [],
   "source": [
    "Files :\n",
    "\n",
    "1.text file  : third party application not required --  plain text [readable format]\n",
    "\n",
    "2.binary file : thirt party application requirement --> binary format [ not readable format]\n"
   ]
  },
  {
   "cell_type": "code",
   "execution_count": null,
   "id": "87592027-ac1e-4dfb-bb32-c3f1d99b2eda",
   "metadata": {},
   "outputs": [],
   "source": [
    "text files:\n",
    "txt\n",
    "csv\n",
    "tsv\n",
    "log file\n",
    "=========================\n",
    "binary :\n",
    "pdf\n",
    "excel\n",
    "mp3\n",
    "mp4\n",
    "images"
   ]
  },
  {
   "cell_type": "code",
   "execution_count": null,
   "id": "717831bc-648d-41b5-b82a-cbc0bbb6acfd",
   "metadata": {},
   "outputs": [],
   "source": [
    "file :\n",
    "filename \n",
    "mode \n",
    "\n",
    "open() : to handle/open file in given mode"
   ]
  },
  {
   "cell_type": "code",
   "execution_count": null,
   "id": "2cca5c37-6f35-4f1d-8c5e-f144161f5a75",
   "metadata": {},
   "outputs": [],
   "source": [
    "open(filename/path,mode)\n",
    "\n",
    "mode :\n",
    "read -  r\n",
    "write - w\n",
    "append - a\n",
    "read then write - r+ \n",
    "write then read - w+\n",
    "append then read - a+\n",
    "exclusive - x"
   ]
  },
  {
   "cell_type": "code",
   "execution_count": null,
   "id": "695bc404-547c-4c81-936d-997a638b8ace",
   "metadata": {},
   "outputs": [],
   "source": [
    "read-- r\n",
    "open(filename,'r')\n",
    "or\n",
    "open(filename) # defualt in read mode"
   ]
  },
  {
   "cell_type": "code",
   "execution_count": null,
   "id": "0dcb315e-f2d9-4e8e-8547-b5628cebbe0e",
   "metadata": {},
   "outputs": [],
   "source": [
    "read-r\n",
    "\n",
    "if file exist then read\n",
    "if not then it will return FileNotFoundError\n",
    "\n",
    "read() :  to read all content from file\n"
   ]
  },
  {
   "cell_type": "code",
   "execution_count": 18,
   "id": "d8bbfcee-aa2c-43d4-8e7b-1bf76f4102f9",
   "metadata": {},
   "outputs": [
    {
     "name": "stdout",
     "output_type": "stream",
     "text": [
      "kjsfbkjbsdfksdfsd\n",
      "sd\n",
      "f\n",
      "sdf,kantilal@gmail.com\n",
      "f\n",
      "sdafsdf;fbsadkfbasdkgjskjdgsdg\n",
      "4646436346346\n",
      "adsgadkgnasdgknadsgag\n",
      "\n"
     ]
    }
   ],
   "source": [
    "fp = open(r'C:\\Users\\kanti\\OneDrive\\Desktop\\AI Nexus#1\\test.txt')\n",
    "data = fp.read()\n",
    "print(data)"
   ]
  },
  {
   "cell_type": "code",
   "execution_count": 28,
   "id": "7b89f6d8-d416-4c2e-b92e-c93ef21558b2",
   "metadata": {},
   "outputs": [
    {
     "name": "stdout",
     "output_type": "stream",
     "text": [
      "kantilal@gmail.com\n"
     ]
    }
   ],
   "source": [
    "for item in data.splitlines():\n",
    "    line = item.split(\",\")\n",
    "    for i in line:\n",
    "        if '@' in i:\n",
    "            print(i)"
   ]
  },
  {
   "cell_type": "code",
   "execution_count": null,
   "id": "3f456aa6-02a2-48dc-b9cb-eeae3817682a",
   "metadata": {},
   "outputs": [],
   "source": [
    "readlines() :\n",
    "[line1,line2,line3,line4..]"
   ]
  },
  {
   "cell_type": "code",
   "execution_count": 35,
   "id": "07cc5930-7003-4511-9f3f-b7e72b1c4573",
   "metadata": {},
   "outputs": [
    {
     "name": "stdout",
     "output_type": "stream",
     "text": [
      "['first line\\n', 'second line\\n', 'third line\\n', 'fourth line\\n', 'fifth line']\n"
     ]
    }
   ],
   "source": [
    "fp = open(r'C:\\Users\\kanti\\OneDrive\\Desktop\\AI Nexus#1\\test.txt')\n",
    "data = fp.readlines()\n",
    "print(data)"
   ]
  },
  {
   "cell_type": "code",
   "execution_count": 37,
   "id": "826f9d8b-228c-4c29-b0cb-f78baa2701e9",
   "metadata": {},
   "outputs": [
    {
     "data": {
      "text/plain": [
       "'\\nBuilding on Part 1 of this PSF Grants Program Update, we are pleased to share updates to the Grants Workgroup (workgroup) Charter. We have outlined all the changes below in a chart, but there are a couple of changes that we’d like to highlight to grant applicants. These updates in particular will change how and when you apply, and hopefully reduce blockers to getting those applications in and ready for review. Because we are just sharing these updates, we are happy to be flexible on these changes but hope to see all applicants adhere to the changes starting around January 2025. \\n\\nIncrease overall process time frame to 8 weeks (formerly 6 weeks). We want to be realistic about how long the process takes and we know that going over our projection can cause pain for applicants. We hope to turn around applications in 6 weeks in most cases, but planning for the extra two weeks can make a big difference for everyone involved!\\nOur application form requires that you set the event date out to 6 weeks in advance. We will wait to update that to 8 weeks in advance until January 2025.\\nIt’s important to note that this time frame begins only once all required information has been received, not exactly from the day the application is submitted. Make sure to check the email you provided on the application to see if the workgroup Chair has any questions regarding your request!\\nAdd a statement of support for accessibility services. In line with the PSF’s mission to support and facilitate the growth of a diverse community, we are explicitly stating in the charter that we will consider funding accessibility services. For established events (have 2 or more events in the past with more than 200 participants at the last event), we are open to considering accessibility-related requests such as live captioning, sign language interpretation, or certified child care.\\nTo review these types of requests, we will need sufficient documentation such as quotes, certifications, or any other relevant information.'"
      ]
     },
     "execution_count": 37,
     "metadata": {},
     "output_type": "execute_result"
    }
   ],
   "source": [
    "\"\"\"\n",
    "Building on Part 1 of this PSF Grants Program Update, we are pleased to share updates to the Grants Workgroup (workgroup) Charter. We have outlined all the changes below in a chart, but there are a couple of changes that we’d like to highlight to grant applicants. These updates in particular will change how and when you apply, and hopefully reduce blockers to getting those applications in and ready for review. Because we are just sharing these updates, we are happy to be flexible on these changes but hope to see all applicants adhere to the changes starting around January 2025. \n",
    "\n",
    "Increase overall process time frame to 8 weeks (formerly 6 weeks). We want to be realistic about how long the process takes and we know that going over our projection can cause pain for applicants. We hope to turn around applications in 6 weeks in most cases, but planning for the extra two weeks can make a big difference for everyone involved!\n",
    "Our application form requires that you set the event date out to 6 weeks in advance. We will wait to update that to 8 weeks in advance until January 2025.\n",
    "It’s important to note that this time frame begins only once all required information has been received, not exactly from the day the application is submitted. Make sure to check the email you provided on the application to see if the workgroup Chair has any questions regarding your request!\n",
    "Add a statement of support for accessibility services. In line with the PSF’s mission to support and facilitate the growth of a diverse community, we are explicitly stating in the charter that we will consider funding accessibility services. For established events (have 2 or more events in the past with more than 200 participants at the last event), we are open to considering accessibility-related requests such as live captioning, sign language interpretation, or certified child care.\n",
    "To review these types of requests, we will need sufficient documentation such as quotes, certifications, or any other relevant information.\"\"\""
   ]
  },
  {
   "cell_type": "code",
   "execution_count": null,
   "id": "2f01b5ce-a307-4011-9caa-3e6e0103b410",
   "metadata": {},
   "outputs": [],
   "source": [
    "word : count\n",
    "\n",
    "most frequent words -- > top five word\n",
    "\n",
    "palindrom word \n",
    "\n",
    "anagram --> \n",
    "\n",
    "emails ,numbers,word - AEIOU  starts word list display\n",
    "\n",
    "\n",
    "--- 1 Program -- functional approach\n",
    "def word_count()\n",
    "\n",
    "\n",
    "def email_fetch()\n",
    "\n",
    "\n",
    "def \n",
    "\n"
   ]
  },
  {
   "cell_type": "code",
   "execution_count": null,
   "id": "92dde146-5796-403a-ba06-d5a7d2c977a8",
   "metadata": {},
   "outputs": [],
   "source": [
    "read\n",
    "readlines\n",
    "readline\n",
    "readable"
   ]
  },
  {
   "cell_type": "code",
   "execution_count": 47,
   "id": "be8e8aa3-489f-4483-a611-c68c3b1cd714",
   "metadata": {},
   "outputs": [
    {
     "name": "stdout",
     "output_type": "stream",
     "text": [
      "first line\n",
      "\n",
      "second line\n",
      "\n",
      "third line\n",
      "\n",
      "fourth line\n",
      "\n"
     ]
    }
   ],
   "source": [
    "fp = open(r'C:\\Users\\kanti\\OneDrive\\Desktop\\AI Nexus#1\\test.txt')\n",
    "print(fp.readline())\n",
    "print(fp.readline())\n",
    "print(fp.readline())\n",
    "print(fp.readline())"
   ]
  },
  {
   "cell_type": "code",
   "execution_count": null,
   "id": "264105dd-dd07-4150-abbe-17eb0a2464b9",
   "metadata": {},
   "outputs": [],
   "source": [
    "readable -- > file status -- read or write "
   ]
  },
  {
   "cell_type": "code",
   "execution_count": 53,
   "id": "66aa7352-827d-42d5-846a-f01b83f66f02",
   "metadata": {},
   "outputs": [
    {
     "name": "stdout",
     "output_type": "stream",
     "text": [
      "False\n"
     ]
    }
   ],
   "source": [
    "fp = open(r'C:\\Users\\kanti\\OneDrive\\Desktop\\AI Nexus#1\\test.txt','w')\n",
    "print(fp.readable())"
   ]
  },
  {
   "cell_type": "code",
   "execution_count": null,
   "id": "bdb88048-8e10-427e-89f1-9c4e074e73cb",
   "metadata": {},
   "outputs": [],
   "source": [
    "read -  to read all content\n",
    "readlines - to read lines -- in list format \n",
    "readline -  to read single line at a time\n",
    "readable -  to check status -- read or write  read -- True write False"
   ]
  },
  {
   "cell_type": "code",
   "execution_count": 55,
   "id": "62665795-ab07-4173-84b8-16e978a6d276",
   "metadata": {},
   "outputs": [],
   "source": [
    "#write - w\n",
    "fp = open(filename,'w')\n",
    "\n",
    "if file present then write [override] the content\n",
    "if not then it will create and write content\n",
    "\n",
    "write(content)\n",
    "writelines(list of lines)\n",
    "writable() --> status -- True | False"
   ]
  },
  {
   "cell_type": "code",
   "execution_count": 78,
   "id": "ca391b23-dc13-4c24-a8ad-0db9614a353c",
   "metadata": {},
   "outputs": [
    {
     "data": {
      "text/plain": [
       "2010"
      ]
     },
     "execution_count": 78,
     "metadata": {},
     "output_type": "execute_result"
    }
   ],
   "source": [
    "fp = open('ainexusit.txt','w')\n",
    "fp.write(\"\"\"Building on Part 1 of this PSF Grants Program Update, we are pleased to share updates to the Grants Workgroup (workgroup) Charter. We have outlined all the changes below in a chart, but there are a couple of changes that we’d like to highlight to grant applicants. These updates in particular will change how and when you apply, and hopefully reduce blockers to getting those applications in and ready for review. Because we are just sharing these updates, we are happy to be flexible on these changes but hope to see all applicants adhere to the changes starting around January 2025. \n",
    "\n",
    "Increase overall process time frame to 8 weeks (formerly 6 weeks). We want to be realistic about how long the process takes and we know that going over our projection can cause pain for applicants. We hope to turn around applications in 6 weeks in most cases, but planning for the extra two weeks can make a big difference for everyone involved!\n",
    "Our application form requires that you set the event date out to 6 weeks in advance. We will wait to update that to 8 weeks in advance until January 2025.\n",
    "It’s important to note that this time frame begins only once all required information has been received, not exactly from the day the application is submitted. Make sure to check the email you provided on the application to see if the workgroup Chair has any questions regarding your request!\n",
    "Add a statement of support for accessibility services. In line with the PSF’s mission to support and facilitate the growth of a diverse community, we are explicitly stating in the charter that we will consider funding accessibility services. For established events (have 2 or more events in the past with more than 200 participants at the last event), we are open to considering accessibility-related requests such as live captioning, sign language interpretation, or certified child care.\n",
    "To review these types of requests, we will need sufficient documentation such as quotes, certifications, or any other relevant information.\"\"\")"
   ]
  },
  {
   "cell_type": "code",
   "execution_count": 74,
   "id": "a7469a3f-a228-4464-88fa-a89a896eb4fb",
   "metadata": {},
   "outputs": [
    {
     "data": {
      "text/plain": [
       "19"
      ]
     },
     "execution_count": 74,
     "metadata": {},
     "output_type": "execute_result"
    }
   ],
   "source": [
    "fp  = open(\"ainexusit.txt\",\"w\")\n",
    "fp.write(\"Hello welcome to AI\")"
   ]
  },
  {
   "cell_type": "code",
   "execution_count": 92,
   "id": "74ae9cee-cb87-45cb-b97a-10df19956819",
   "metadata": {},
   "outputs": [],
   "source": [
    "fp = open(\"ainexusit.txt\",'w')\n",
    "lines = (\"1.first line\",\"\\n2.second line\",\"\\n3.Third line\")\n",
    "fp.writelines(lines)"
   ]
  },
  {
   "cell_type": "code",
   "execution_count": 94,
   "id": "2c002ae6-1d50-41f2-9f43-a79a7abb0624",
   "metadata": {},
   "outputs": [],
   "source": [
    "# read -- write\n",
    "# readlines - writelines\n",
    "# readable -- writeable"
   ]
  },
  {
   "cell_type": "code",
   "execution_count": 86,
   "id": "971d69a9-7567-44e3-9713-2fdac3bb9d98",
   "metadata": {},
   "outputs": [
    {
     "data": {
      "text/plain": [
       "False"
      ]
     },
     "execution_count": 86,
     "metadata": {},
     "output_type": "execute_result"
    }
   ],
   "source": [
    "fp = open(\"ainexusit.txt\",'r')\n",
    "fp.writable()"
   ]
  },
  {
   "cell_type": "code",
   "execution_count": null,
   "id": "476ea1c8-0302-4051-81d3-10d19f20edca",
   "metadata": {},
   "outputs": [],
   "source": [
    "\"\"\"\n",
    "Building on Part 1 of this PSF Grants Program Update, we are 9823893006 pleased to share updates to the Grants Workgroup (workgroup) Charter. We have outlined all the changes below in a chart, but there are a couple of changes that we’d like to highlight to grant applicants. These updates in particular will change how and when you apply, and hopefully reduce blockers to getting those applications in and ready for review. Because we are just sharing these updates, we are happy to be flexible on these changes but hope to see all applicants adhere to the changes starting around January 2025. \n",
    "Increase overall process time kantilal@gmail.com frame to 8 weeks (formerly 6 weeks). We want to be realistic about how long the process takes and we know that going over our projection can cause pain for applicants. We hope to turn around applications in 6 weeks in most cases, but planning for the extra two weeks can make a big difference for everyone involved!\n",
    "Our 9893953985938593 ,application form 9834359385935 requires that you set the event date 98989898989 out to 6 weeks in advance. We will wait to update that to 8 weeks in advance until January 2025.\n",
    "It’s important to 8329370756 note that this  539535353535353 time frame begins only once all required information has been received, not exactly from the day the application is submitted. Make sure to check the email you provided on the application to see if the workgroup Chair has any questions regarding your request!\n",
    "Add a statement of support for accessibility services. 98349385938493In line with the PSF’s mission to support and facilitate the growth of a diverse community, we are explicitly stating in the charter that we will consider funding accessibility services. For established events (have 2 or more events in the past with more than 200 participants at the last event), we are open to considering accessibility-related requests such as live captioning, sign language interpretation, or certified child care.\n",
    "To review these types of requests, we will need sufficient documentation such as quotes, certifications, or any other relevant information.\"\"\""
   ]
  },
  {
   "cell_type": "code",
   "execution_count": null,
   "id": "7e1c03dc-6029-482f-ab3a-8e9ef7ffd5cd",
   "metadata": {},
   "outputs": [],
   "source": [
    "emails.txt\n",
    "valid_mobiles.txt\n",
    "invalid_mobiles.txt\n",
    "wordcount.txt"
   ]
  },
  {
   "cell_type": "code",
   "execution_count": null,
   "id": "233e719a-95ea-4ccd-8a30-4c2f3beaa74e",
   "metadata": {},
   "outputs": [],
   "source": [
    "append -- same as write mode \n",
    "if file present then append content at the end\n",
    "if not create new file and write content into it"
   ]
  },
  {
   "cell_type": "code",
   "execution_count": 102,
   "id": "b9eafe43-aed3-47be-9bac-a788ba8be9e2",
   "metadata": {},
   "outputs": [
    {
     "data": {
      "text/plain": [
       "13"
      ]
     },
     "execution_count": 102,
     "metadata": {},
     "output_type": "execute_result"
    }
   ],
   "source": [
    "fp = open(\"ainexusit.txt\",'a')\n",
    "fp.write(\"\\n4.fifth line\")"
   ]
  },
  {
   "cell_type": "code",
   "execution_count": 106,
   "id": "6a400368-2e16-41b8-a059-e69c5cb5f16b",
   "metadata": {},
   "outputs": [],
   "source": [
    "fp = open(\"ainexusit.txt\",'a')\n",
    "lines = ['\\n5.fifth','\\n6.sixth','\\n7.seventh']\n",
    "fp.writelines(lines)"
   ]
  },
  {
   "cell_type": "code",
   "execution_count": null,
   "id": "f0e3b44c-550b-4e96-ab36-d9ef36f512b6",
   "metadata": {},
   "outputs": [],
   "source": [
    "read        write        write - append\n",
    "readlines   writelines  writelines - append\n",
    "readable    writable     writeable - append"
   ]
  },
  {
   "cell_type": "code",
   "execution_count": 112,
   "id": "96b18ff2-75b6-41aa-86d8-1fc8f714f6e3",
   "metadata": {},
   "outputs": [],
   "source": [
    "#normal open vs with open"
   ]
  },
  {
   "cell_type": "code",
   "execution_count": null,
   "id": "c4d58bb8-deb4-4f09-9cd6-d76e76ee64bb",
   "metadata": {},
   "outputs": [],
   "source": [
    "file open --> close "
   ]
  },
  {
   "cell_type": "code",
   "execution_count": null,
   "id": "32497c7b-2c2a-4532-85fe-3552f173d337",
   "metadata": {},
   "outputs": [],
   "source": [
    "resource -- files -- at the same time multiple process access \n",
    "\n",
    "open - close --> resource "
   ]
  },
  {
   "cell_type": "code",
   "execution_count": 118,
   "id": "28f456b4-4e10-4fa3-a399-edcbdaf601cf",
   "metadata": {},
   "outputs": [
    {
     "name": "stdout",
     "output_type": "stream",
     "text": [
      "before \n",
      "False\n",
      "After\n",
      "True\n"
     ]
    }
   ],
   "source": [
    "fp = open(\"ainexusit.txt\",\"r\")\n",
    "print(\"before \")\n",
    "print(fp.closed)\n",
    "fp.close() #manually file close\n",
    "print(\"After\")\n",
    "print(fp.closed)"
   ]
  },
  {
   "cell_type": "code",
   "execution_count": null,
   "id": "961ddc12-bcf0-4388-8629-65ee7b6f0711",
   "metadata": {},
   "outputs": [],
   "source": [
    "with open(filename,mode) as fp:\n",
    "    fp.read()"
   ]
  },
  {
   "cell_type": "code",
   "execution_count": 120,
   "id": "fbf144bd-b230-46e5-9b68-1d7a4ad1541f",
   "metadata": {},
   "outputs": [
    {
     "name": "stdout",
     "output_type": "stream",
     "text": [
      "1.first line\n",
      "2.second line\n",
      "3.Third line\n",
      "4.fourth line\n",
      "4.fourth line\n",
      "4.fifth line\n",
      "5.fifth\n",
      "6.sixth\n",
      "7.seventh\n",
      "4.fifth line\n",
      "5.fifth\n",
      "6.sixth\n",
      "7.seventh\n",
      "False\n",
      "True\n"
     ]
    }
   ],
   "source": [
    "with open(\"ainexusit.txt\") as fp:\n",
    "    data = fp.read()\n",
    "    print(data)\n",
    "    print(fp.closed) # False\n",
    "print(fp.closed) # True"
   ]
  },
  {
   "cell_type": "code",
   "execution_count": null,
   "id": "ebbf1894-c56e-4088-93f6-85b438948777",
   "metadata": {},
   "outputs": [],
   "source": [
    "r+ -  read then write "
   ]
  },
  {
   "cell_type": "code",
   "execution_count": 127,
   "id": "f2855fe2-b504-4284-9a80-2b1dc4d920ca",
   "metadata": {},
   "outputs": [
    {
     "name": "stdout",
     "output_type": "stream",
     "text": [
      "1.first line\n",
      "2.second line\n",
      "3.Third line\n",
      "4.fourth line\n",
      "4.fourth line\n",
      "4.fifth line\n",
      "5.fifth\n",
      "6.sixth\n",
      "7.seventh\n",
      "4.fifth line\n",
      "5.fifth\n",
      "6.sixth\n",
      "7.seventh\n"
     ]
    }
   ],
   "source": [
    "with open(\"ainexusit.txt\",\"r+\") as fp:\n",
    "    data = fp.read()\n",
    "    print(data)\n",
    "    fp.write(\"\\nnew content\")   "
   ]
  },
  {
   "cell_type": "code",
   "execution_count": null,
   "id": "ae017b01-c1fb-48fd-bfd1-c65f56fa4e6b",
   "metadata": {},
   "outputs": [],
   "source": [
    "w+  write then read"
   ]
  },
  {
   "cell_type": "code",
   "execution_count": 137,
   "id": "05524413-7194-4ebf-a4e1-9981df05d41a",
   "metadata": {},
   "outputs": [
    {
     "name": "stdout",
     "output_type": "stream",
     "text": [
      " content by w+ mode\n"
     ]
    }
   ],
   "source": [
    "with open(\"ainexusit1.txt\",\"w+\") as fp:\n",
    "    fp.write(\"new content by w+ mode\")\n",
    "    fp.seek(3)\n",
    "    data  = fp.read()\n",
    "    print(data)"
   ]
  },
  {
   "cell_type": "code",
   "execution_count": null,
   "id": "af8f1f14-e830-4e9b-bd1c-da3e5c66d153",
   "metadata": {},
   "outputs": [],
   "source": [
    "fp.tell -- to return current cursor position\n",
    "fp.seek -- to move cursor to given position"
   ]
  },
  {
   "cell_type": "code",
   "execution_count": null,
   "id": "55d7f646-910f-42a9-8a89-1bfb6d8e7ad5",
   "metadata": {},
   "outputs": [],
   "source": [
    "a+ -- append then read"
   ]
  },
  {
   "cell_type": "code",
   "execution_count": 143,
   "id": "78f3c10b-c110-40d3-8c66-1925f90afbd2",
   "metadata": {},
   "outputs": [
    {
     "name": "stdout",
     "output_type": "stream",
     "text": [
      "new content by w+ modesadfjknsfkjsdf sfsonsdf skfj sdfsadfjknsfkjsdf sfsonsdf skfj sdf sadfjknsfkjsdf sfsonsdf skfj sdf\n"
     ]
    }
   ],
   "source": [
    "with open(\"ainexusit1.txt\",'a+') as fp:\n",
    "    fp.write(\" sadfjknsfkjsdf sfsonsdf skfj sdf\")\n",
    "    fp.seek(0)\n",
    "    data = fp.read()\n",
    "    print(data)"
   ]
  },
  {
   "cell_type": "code",
   "execution_count": null,
   "id": "99c91eb8-7056-4815-b2b3-b73e61cf1b98",
   "metadata": {},
   "outputs": [],
   "source": [
    "Assigment : \n",
    "\n",
    "old content : \n",
    "\n",
    "new content : "
   ]
  },
  {
   "cell_type": "code",
   "execution_count": null,
   "id": "4ec3eaec-3f89-42d5-bfb2-686393f6a410",
   "metadata": {},
   "outputs": [],
   "source": [
    "x -  exclusive mode:\n",
    "\n",
    "every time new file create\n",
    "\n",
    "if file present then it will return FileExistError\n",
    "\n",
    "if not then create new file then write content into it"
   ]
  },
  {
   "cell_type": "code",
   "execution_count": 147,
   "id": "2f16270c-7c84-4aa8-ba8a-fa04cec75c30",
   "metadata": {},
   "outputs": [],
   "source": [
    "with open(\"ainexusit12.txt\",'x') as fp:\n",
    "    fp.write(\"sadfbsfsdfs\")"
   ]
  },
  {
   "cell_type": "code",
   "execution_count": null,
   "id": "4baf27d6-1756-421c-bbb0-d6e4e007acff",
   "metadata": {},
   "outputs": [],
   "source": []
  }
 ],
 "metadata": {
  "kernelspec": {
   "display_name": "Python 3 (ipykernel)",
   "language": "python",
   "name": "python3"
  },
  "language_info": {
   "codemirror_mode": {
    "name": "ipython",
    "version": 3
   },
   "file_extension": ".py",
   "mimetype": "text/x-python",
   "name": "python",
   "nbconvert_exporter": "python",
   "pygments_lexer": "ipython3",
   "version": "3.12.4"
  }
 },
 "nbformat": 4,
 "nbformat_minor": 5
}
